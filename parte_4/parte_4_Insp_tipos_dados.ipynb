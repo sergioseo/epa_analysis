{
 "cells": [
  {
   "cell_type": "markdown",
   "metadata": {
    "collapsed": true
   },
   "source": [
    "# Inspecionando tipos de dados\n",
    "Use o espaço abaixo para explorar os arquivos `data_08.csv` e `data_18.csv` para responder às perguntas do teste abaixo sobre tipos de dados."
   ]
  },
  {
   "cell_type": "code",
   "execution_count": 22,
   "metadata": {},
   "outputs": [],
   "source": [
    "import pandas as pd\n",
    "df_08 = pd.read_csv(\"../parte_3/data_08.csv\")\n",
    "df_18 = pd.read_csv(\"../parte_3/data_18.csv\")"
   ]
  },
  {
   "cell_type": "markdown",
   "metadata": {},
   "source": [
    "* Basicamente iremos inspecionar o tipo de algumas colunas usando `type()` e depois tentar padronizá-las (se necessário)."
   ]
  },
  {
   "cell_type": "code",
   "execution_count": 23,
   "metadata": {},
   "outputs": [
    {
     "name": "stdout",
     "output_type": "stream",
     "text": [
      "Tipo da Coluna Cyl em 2008: <class 'str'> \n",
      "Tipo da Coluna Cyl em 2018: <class 'numpy.float64'>\n"
     ]
    }
   ],
   "source": [
    "# Quais das mudanças a seguir podem ser feitas à coluna “cyl.” nos dois conjuntos de dados de forma clara e consistente?\n",
    "print(\"Tipo da Coluna Cyl em 2008: {0} \\nTipo da Coluna Cyl em 2018: {1}\".format(\n",
    "        type(df_08['cyl'][0]), type(df_18['cyl'][0])))"
   ]
  },
  {
   "cell_type": "code",
   "execution_count": 24,
   "metadata": {},
   "outputs": [
    {
     "name": "stdout",
     "output_type": "stream",
     "text": [
      "Tipo da Coluna Air Pollution em 2008: <class 'str'> \n",
      "Tipo da Coluna Air Pollution em 2018: <class 'numpy.int64'>\n"
     ]
    }
   ],
   "source": [
    "# Quais das mudanças a seguir podem ser feitas à coluna “air_pollution_score” nos dois conjuntos de dados de forma clara e consistente?\n",
    "print(\"Tipo da Coluna Air Pollution em 2008: {0} \\nTipo da Coluna Air Pollution em 2018: {1}\".format(\n",
    "        type(df_08['air_pollution_score'][0]), type(df_18['air_pollution_score'][0])))\n"
   ]
  },
  {
   "cell_type": "code",
   "execution_count": 25,
   "metadata": {},
   "outputs": [
    {
     "name": "stdout",
     "output_type": "stream",
     "text": [
      "Tipo da coluna City Mpg em 2008: <class 'str'> \n",
      "Tipo da coluna City Mpg em 2018: <class 'str'>\n"
     ]
    }
   ],
   "source": [
    "# Quais dos atributos a seguir precisam ser transformados de strings em floats?\n",
    "print(\"Tipo da coluna City Mpg em 2008: {0} \\nTipo da coluna City Mpg em 2018: {1}\".format(\n",
    "        type(df_08['city_mpg'][0]), type(df_18['city_mpg'][0])))"
   ]
  },
  {
   "cell_type": "code",
   "execution_count": 26,
   "metadata": {},
   "outputs": [
    {
     "name": "stdout",
     "output_type": "stream",
     "text": [
      "Tipo da coluna Hwy Mpg em 2008: <class 'str'> \n",
      "Tipo da coluna Hwy Mpg em 2018: <class 'str'>\n"
     ]
    }
   ],
   "source": [
    "print(\"Tipo da coluna Hwy Mpg em 2008: {0} \\nTipo da coluna Hwy Mpg em 2018: {1}\".format(\n",
    "        type(df_08['hwy_mpg'][0]), type(df_18['hwy_mpg'][0])))"
   ]
  },
  {
   "cell_type": "code",
   "execution_count": 27,
   "metadata": {},
   "outputs": [
    {
     "name": "stdout",
     "output_type": "stream",
     "text": [
      "Tipo da coluna Cmb Mpg em 2008: <class 'str'> \n",
      "Tipo da coluna Cmb Mpg em 2018: <class 'str'>\n"
     ]
    }
   ],
   "source": [
    "print(\"Tipo da coluna Cmb Mpg em 2008: {0} \\nTipo da coluna Cmb Mpg em 2018: {1}\".format(\n",
    "        type(df_08['cmb_mpg'][0]), type(df_18['cmb_mpg'][0])))"
   ]
  },
  {
   "cell_type": "code",
   "execution_count": 28,
   "metadata": {},
   "outputs": [
    {
     "name": "stdout",
     "output_type": "stream",
     "text": [
      "Tipo da coluna Greenhouse Gas em 2008: <class 'str'> \n",
      "Tipo da coluna Greenhouse Gas em 2018: <class 'numpy.int64'>\n"
     ]
    }
   ],
   "source": [
    "# Quais mudanças precisam ser feitas para deixar a coluna “greenhouse_gas_score” consistente nos dois conjuntos de dados?\n",
    "print(\"Tipo da coluna Greenhouse Gas em 2008: {0} \\nTipo da coluna Greenhouse Gas em 2018: {1}\".format(\n",
    "        type(df_08['greenhouse_gas_score'][0]), type(df_18['greenhouse_gas_score'][0])))"
   ]
  }
 ],
 "metadata": {
  "kernelspec": {
   "display_name": "Python 3",
   "language": "python",
   "name": "python3"
  },
  "language_info": {
   "codemirror_mode": {
    "name": "ipython",
    "version": 3
   },
   "file_extension": ".py",
   "mimetype": "text/x-python",
   "name": "python",
   "nbconvert_exporter": "python",
   "pygments_lexer": "ipython3",
   "version": "3.7.3"
  }
 },
 "nbformat": 4,
 "nbformat_minor": 2
}
